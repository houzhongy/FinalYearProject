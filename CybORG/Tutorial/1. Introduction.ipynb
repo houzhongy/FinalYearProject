{
 "cells": [
  {
   "cell_type": "markdown",
   "metadata": {},
   "source": [
    "### Importing CybORG"
   ]
  },
  {
   "cell_type": "markdown",
   "metadata": {},
   "source": [
    "To use the CybORG environment, it is necessary to import the CybORG class. CybORG stands for **Cyb**er **O**perations **R**esearch **G**ym, so remember to capitalise correctly when importing. "
   ]
  },
  {
   "cell_type": "code",
   "execution_count": 2,
   "metadata": {},
   "outputs": [],
   "source": [
    "from CybORG import CybORG"
   ]
  },
  {
   "cell_type": "markdown",
   "metadata": {},
   "source": [
    "### Instantiating CybORG"
   ]
  },
  {
   "cell_type": "markdown",
   "metadata": {},
   "source": [
    "CybORG has to be manually instantiated by calling the class constructor. This must be passed a ScenarioGenerator class, which contains the details of the scenario.\n",
    "For Challenge 3 we will be using the DroneSwarmScenarioGenerator which creates the correct scenario."
   ]
  },
  {
   "cell_type": "code",
   "execution_count": 3,
   "metadata": {},
   "outputs": [
    {
     "name": "stderr",
     "output_type": "stream",
     "text": [
      "c:\\Users\\houzh\\anaconda3\\envs\\fyp_no_stable\\lib\\site-packages\\gym\\utils\\seeding.py:47: DeprecationWarning: \u001b[33mWARN: Function `rng.randint(low, [high, size, dtype])` is marked as deprecated and will be removed in the future. Please use `rng.integers(low, [high, size, dtype])` instead.\u001b[0m\n",
      "  deprecation(\n"
     ]
    }
   ],
   "source": [
    "from CybORG.Simulator.Scenarios import DroneSwarmScenarioGenerator\n",
    "\n",
    "sg = DroneSwarmScenarioGenerator()\n",
    "cyborg = CybORG(scenario_generator=sg)"
   ]
  },
  {
   "cell_type": "markdown",
   "metadata": {},
   "source": [
    "### The PettingZoo Interface"
   ]
  },
  {
   "cell_type": "markdown",
   "metadata": {},
   "source": [
    "Challenge 3 is a multi-agent scenario consisting of several teams of agents. Red team will be attacking the network, Blue team will be defending the network, while Green team represents the network users who will be passing messages to each other via the drone network. For this challenge, the roles of Red and Green will be handled by internal rules-based agents, while your task is to use the external API to train Blue Team.\n",
    "\n",
    "CybORG supports single and multi-agent reinforcement learning. The single agent API is based on OpenAI gym, while the multi-agent API is based on PettingZoo. Since Challenge 3 is a multi-agent scenario, we will thus use the PettingZooParallelWrapper. We do this by instantiating the wrapper and pass in CybORG as the env parameter."
   ]
  },
  {
   "cell_type": "code",
   "execution_count": 3,
   "metadata": {},
   "outputs": [
    {
     "name": "stdout",
     "output_type": "stream",
     "text": [
      "dict_keys(['blue_agent_0', 'blue_agent_1', 'blue_agent_2', 'blue_agent_3', 'blue_agent_4', 'blue_agent_5', 'blue_agent_6', 'blue_agent_7', 'blue_agent_8', 'blue_agent_9', 'blue_agent_10', 'blue_agent_11', 'blue_agent_12', 'blue_agent_13', 'blue_agent_14', 'blue_agent_15', 'blue_agent_16', 'blue_agent_17'])\n"
     ]
    }
   ],
   "source": [
    "from CybORG.Agents.Wrappers import PettingZooParallelWrapper\n",
    "\n",
    "env = PettingZooParallelWrapper(env=cyborg)\n",
    "obs = env.reset()\n",
    "\n",
    "print(obs.keys())"
   ]
  },
  {
   "cell_type": "markdown",
   "metadata": {},
   "source": [
    "We obtain the initial observation by resetting the environment. This ouputs a dictionary whose keys are the names of the various blue agents and whose values are the corresponding agent's observation. We can see below the observation of 'blue_agent_0'. This is in vector form designed for input into a neural network. See the README page for an explanation of what the values in this vector mean."
   ]
  },
  {
   "cell_type": "code",
   "execution_count": 4,
   "metadata": {},
   "outputs": [
    {
     "name": "stdout",
     "output_type": "stream",
     "text": [
      "[ 1  0  0  0  0  0  0  0  0  0  0  0  0  0  0  0  0  0  0  1  0  0  0  0\n",
      "  0  0  0  0  0  0  0  0  0  0  0  0  0  0 47 97  1 71 47  0  2 82 61  0\n",
      "  3 41  0  0  4 22 88  0  5  3 33  0  6 95 88  0  7 52 94  0  8 30 22  0\n",
      "  9 66  0  0 10 64 87  0 11 41 36  0 12 95 74  0 13 75 70  0 14  7  4  0\n",
      " 15 23 64  0 16 65 86  0 17  7 80  0]\n"
     ]
    }
   ],
   "source": [
    "print(obs['blue_agent_0'])"
   ]
  },
  {
   "cell_type": "markdown",
   "metadata": {},
   "source": [
    "To see the action space for a specific agent, the action_space method is called, passing in the agent name as a string. This returns a Discrete object from OpenAI gym."
   ]
  },
  {
   "cell_type": "code",
   "execution_count": 5,
   "metadata": {},
   "outputs": [
    {
     "name": "stdout",
     "output_type": "stream",
     "text": [
      "Discrete(56)\n"
     ]
    }
   ],
   "source": [
    "action_space = env.action_space('blue_agent_0')\n",
    "print(action_space)"
   ]
  },
  {
   "cell_type": "markdown",
   "metadata": {},
   "source": [
    "Actions are given to CybORG via the step method. Just like PettingZoo, this is given a dictionary whose keys are the agent names and whose values are the corresponding actions. This function returns the next observation, rewards for the agents, the done signal for each agent and the info dictionary, which is usually empty."
   ]
  },
  {
   "cell_type": "code",
   "execution_count": 6,
   "metadata": {},
   "outputs": [
    {
     "name": "stdout",
     "output_type": "stream",
     "text": [
      "<generator object <genexpr> at 0x0000025A1AC00040>\n",
      "{'blue_agent_0': 23, 'blue_agent_1': 30, 'blue_agent_2': 25, 'blue_agent_3': 52, 'blue_agent_4': 12, 'blue_agent_5': 8, 'blue_agent_6': 15, 'blue_agent_7': 54, 'blue_agent_8': 18, 'blue_agent_9': 22, 'blue_agent_10': 6, 'blue_agent_11': 28, 'blue_agent_12': 40, 'blue_agent_13': 46, 'blue_agent_14': 18, 'blue_agent_15': 1, 'blue_agent_16': 15, 'blue_agent_17': 25}\n",
      "-10.0\n",
      "[ 0  0  0  0  0  1  0  0  0  0  0  0  0  0  0  0  0  0  0  0  0  0  0  0\n",
      "  0  0  0  0  0  0  0  0  0  0  0  0  0  0 47 97  1 71 47  0  2 82 61  0\n",
      "  3  0  0  0  4 22 88  0  5  0  0  0  6 95 88  0  7 52 94  0  8  0  0  0\n",
      "  9  0  0  0 10 64 87  0 11  0  0  0 12 95 74  0 13 75 70  0 14  0  0  0\n",
      " 15 23 64  0 16 65 86  0 17  7 80  0]\n",
      "False\n",
      "{}\n"
     ]
    }
   ],
   "source": [
    "print(k for k in obs)\n",
    "actions = {k:action_space.sample() for k in obs}\n",
    "obs, reward, done, info = env.step(actions)\n",
    "print(actions)\n",
    "print(reward['blue_agent_0'])\n",
    "print(obs['blue_agent_0'])\n",
    "print(done['blue_agent_0'])\n",
    "print(info)"
   ]
  },
  {
   "cell_type": "markdown",
   "metadata": {},
   "source": [
    "This should be enough to get you started training agents."
   ]
  },
  {
   "cell_type": "code",
   "execution_count": null,
   "metadata": {},
   "outputs": [],
   "source": []
  }
 ],
 "metadata": {
  "kernelspec": {
   "display_name": "Python 3 (ipykernel)",
   "language": "python",
   "name": "python3"
  },
  "language_info": {
   "codemirror_mode": {
    "name": "ipython",
    "version": 3
   },
   "file_extension": ".py",
   "mimetype": "text/x-python",
   "name": "python",
   "nbconvert_exporter": "python",
   "pygments_lexer": "ipython3",
   "version": "3.8.18"
  }
 },
 "nbformat": 4,
 "nbformat_minor": 4
}
